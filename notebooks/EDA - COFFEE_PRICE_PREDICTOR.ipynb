{
 "cells": [
  {
   "cell_type": "markdown",
   "id": "0",
   "metadata": {},
   "source": [
    "## ☕️ Exploratory Data Analysis (EDA) - BrewBuddy Price Predictor\n",
    "\n",
    "**This project is The simple and beginner friendly Exploratory Data Analysis (EDA) performed on a custom prepared Dummy Dataset. The Goal is to** discover insights in coffee sales data, clean and prepare it, for the pricing model.\n",
    "\n",
    "---\n",
    "\n",
    "### 📂 Project Structure\n",
    "\n",
    "- **.ipynb**: Main Jupyter notebook for loading, exploring, and cleaning data.\n",
    "- **data/**\n",
    "  - `NewCoffeeData.csv` – raw sample data\n",
    "\n",
    "---\n",
    "\n",
    "### 📊 Dataset\n",
    "\n",
    "- **Source:** Your own handcrafted BrewBuddy sample data\n",
    "- **Columns:**\n",
    "  - `Bean_Origin` (e.g., Ethiopia, Colombia, Brazil)\n",
    "  - `Roast_Level` (Light, Medium, Dark)\n",
    "  - `Flavor_Profile` (Fruity, Nutty, Chocolatey, Floral…)\n",
    "  - `Customer_Rating` (1.0–5.0 star feedback)\n",
    "  - `Actual_Price` (USD or INR)\n",
    "\n",
    "---\n",
    "\n",
    "### 🔍 Key Steps in the Notebook\n",
    "\n",
    "1. **Data Cleaning & Discovery** 🕵️‍♀️\n",
    "   - **Initial summary:** `df.describe()`, `df.info()` to get counts, means, and dtypes.\n",
    "   - **Missing values:** identify with `df.isnull().sum()` and decide to drop or impute.\n",
    "   - **Value checks:** look for typos or inconsistent bean names (`df['Bean_Origin'].unique()`).\n",
    "\n",
    "2. **Exploratory Charts** 📈\n",
    "   - **Average Price by Roast Level:** bar chart of mean price per roast.\n",
    "   - **Price vs. Rating:** scatter plot to see correlation between customer rating and price.\n",
    "   - **Origin Popularity:** countplot of bean origins to spot data biases.\n",
    "\n",
    "3. **Feature Engineering & Transformation** 🔧\n",
    "   - **Price per Rating:** new column `price_per_star = Actual_Price / Customer_Rating`.\n",
    "   - **One-Hot Encoding:** convert `Bean_Origin`, `Roast_Level`, `Flavor_Profile` into numeric columns.\n",
    "   - **Scaling:** apply `StandardScaler` to `Customer_Rating` and engineered numeric features.\n",
    "\n",
    "4. **Sample Output** 💾\n",
    "   ```python\n",
    "   # Example: price_per_star\n",
    "   df[['Actual_Price','Customer_Rating','price_per_star']].head()\n",
    "\n",
    "   # Actual_Price\tCustomer_Rating\tprice_per_star\n",
    "   # 15.99\t        4.5\t            3.55\n",
    "   # 13.50\t        4.0\t            3.38\n",
    "   # 12.00\t        3.5\t            3.43\n",
    "\n"
   ]
  },
  {
   "cell_type": "markdown",
   "id": "1",
   "metadata": {},
   "source": [
    "## 📥 Data Loading"
   ]
  },
  {
   "cell_type": "code",
   "execution_count": null,
   "id": "2",
   "metadata": {},
   "outputs": [],
   "source": [
    "import pandas as pd\n",
    "import matplotlib.pyplot as plt"
   ]
  },
  {
   "cell_type": "code",
   "execution_count": null,
   "id": "3",
   "metadata": {},
   "outputs": [],
   "source": [
    "df = pd.read_csv('data/NewCoffeeData.csv')\n",
    "print(\"First Five Rows: \\n\", df.head())\n",
    "print(\"\\ncolumn types & missing values : \\n\",df.info())\n",
    "print(\"summary stats for numeric columns : \\n\",df.describe())"
   ]
  },
  {
   "cell_type": "markdown",
   "id": "4",
   "metadata": {},
   "source": [
    "### Your Mission: Look for hidden secrets and patterns in your coffee data.\n",
    "**What's the average price? (Simple numbers!)**"
   ]
  },
  {
   "cell_type": "code",
   "execution_count": null,
   "id": "5",
   "metadata": {},
   "outputs": [],
   "source": [
    "avg_price = df['Actual_Price_INR'].mean()\n",
    "print(f\"Average price: ${avg_price:.2f}\")"
   ]
  },
  {
   "cell_type": "markdown",
   "id": "6",
   "metadata": {},
   "source": [
    "**Average Price :**"
   ]
  },
  {
   "cell_type": "code",
   "execution_count": null,
   "id": "7",
   "metadata": {},
   "outputs": [],
   "source": [
    "df['Actual_Price_INR'].hist(bins=10)\n",
    "plt.title(\"Distribution of Prices\")\n",
    "plt.xlabel(\"Price (USD)\")\n",
    "plt.ylabel(\"Count\")\n",
    "plt.show()"
   ]
  },
  {
   "cell_type": "markdown",
   "id": "8",
   "metadata": {},
   "source": [
    "**☕️ Do darker roasts sell for more or less?**"
   ]
  },
  {
   "cell_type": "code",
   "execution_count": null,
   "id": "9",
   "metadata": {},
   "outputs": [],
   "source": [
    "mean_by_roast = df.groupby('Roast_Level')['Actual_Price_INR'].mean()\n",
    "print(mean_by_roast)"
   ]
  },
  {
   "cell_type": "code",
   "execution_count": null,
   "id": "10",
   "metadata": {},
   "outputs": [],
   "source": [
    "mean_by_roast.plot(kind='bar')\n",
    "plt.title(\"Average Price by Roast Level\")\n",
    "plt.ylabel(\"Avg Price (USD)\")\n",
    "plt.show()"
   ]
  },
  {
   "cell_type": "markdown",
   "id": "11",
   "metadata": {},
   "source": [
    "**🍑 Are fruity coffees always highly rated?**"
   ]
  },
  {
   "cell_type": "code",
   "execution_count": null,
   "id": "12",
   "metadata": {},
   "outputs": [],
   "source": [
    "fruity = df[df['Flavor_Profile'] == 'Fruity']['Customer_Rating']\n",
    "overall = df['Customer_Rating']\n",
    "print(\"Fruity avg rating:\", fruity.mean())\n",
    "print(\"Overall avg rating:\", overall.mean())"
   ]
  },
  {
   "cell_type": "code",
   "execution_count": null,
   "id": "13",
   "metadata": {},
   "outputs": [],
   "source": [
    "df.boxplot(column='Customer_Rating', by='Flavor_Profile', rot=45)\n",
    "plt.title(\"Ratings by Flavor Profile\")\n",
    "plt.suptitle(\"\")  # remove auto-title\n",
    "plt.ylabel(\"Customer Rating\")\n",
    "plt.show()"
   ]
  },
  {
   "cell_type": "markdown",
   "id": "14",
   "metadata": {},
   "source": [
    "**🔍Are there any typos in my bean names?**"
   ]
  },
  {
   "cell_type": "code",
   "execution_count": null,
   "id": "15",
   "metadata": {},
   "outputs": [],
   "source": [
    "print(df['Bean_Origin'].unique())"
   ]
  },
  {
   "cell_type": "markdown",
   "id": "16",
   "metadata": {},
   "source": [
    "**NO TYPOS**"
   ]
  },
  {
   "cell_type": "code",
   "execution_count": null,
   "id": "17",
   "metadata": {},
   "outputs": [],
   "source": [
    "lengths = df['Bean_Origin'].apply(len)\n",
    "odd = df[lengths < 5]  # e.g. names shorter than 5 chars\n",
    "print(odd['Bean_Origin'].value_counts())"
   ]
  },
  {
   "cell_type": "code",
   "execution_count": null,
   "id": "18",
   "metadata": {},
   "outputs": [],
   "source": []
  }
 ],
 "metadata": {
  "kernelspec": {
   "display_name": "Python 3",
   "language": "python",
   "name": "python3"
  },
  "language_info": {
   "codemirror_mode": {
    "name": "ipython",
    "version": 2
   },
   "file_extension": ".py",
   "mimetype": "text/x-python",
   "name": "python",
   "nbconvert_exporter": "python",
   "pygments_lexer": "ipython2",
   "version": "2.7.6"
  }
 },
 "nbformat": 4,
 "nbformat_minor": 5
}
