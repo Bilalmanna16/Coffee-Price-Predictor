{
 "cells": [
  {
   "cell_type": "code",
   "execution_count": null,
   "id": "0",
   "metadata": {},
   "outputs": [],
   "source": [
    "from sklearn.pipeline import Pipeline\n",
    "from sklearn.compose import ColumnTransformer\n",
    "from sklearn.preprocessing import OneHotEncoder, StandardScaler\n",
    "from sklearn.ensemble import RandomForestRegressor\n",
    "import joblib\n",
    "from sklearn.compose import TransformedTargetRegressor\n",
    "import streamlit as st\n",
    "import pandas as pd"
   ]
  },
  {
   "cell_type": "markdown",
   "id": "1",
   "metadata": {},
   "source": [
    "## Load Data\n",
    "### Extract - usefull data from strings (month from date)\n",
    "### Slipt Target (X,Y) And train/test split."
   ]
  },
  {
   "cell_type": "code",
   "execution_count": null,
   "id": "2",
   "metadata": {},
   "outputs": [],
   "source": [
    "import pandas as pd\n",
    "from sklearn.model_selection import train_test_split\n",
    "\n",
    "# Load your cleaned CSV:\n",
    "df = pd.read_csv('data/cleaned_CoffeeData.csv')\n",
    "\n",
    "# Extract month:\n",
    "df['Month'] = pd.to_datetime(df['Sale_Date']).dt.month\n",
    "df.drop(columns=['Sale_Date'], inplace=True)\n",
    "\n",
    "# Split target:\n",
    "y = df['Actual_Price_INR']\n",
    "X = df.drop(columns=['Actual_Price_INR'])\n",
    "\n",
    "# Train/test split:\n",
    "X_train, X_test, y_train, y_test = train_test_split(\n",
    "    X, y, test_size=0.2, random_state=42\n",
    ")"
   ]
  },
  {
   "cell_type": "code",
   "execution_count": null,
   "id": "3",
   "metadata": {},
   "outputs": [],
   "source": [
    "print(df.head())\n",
    "print(df.columns)"
   ]
  },
  {
   "cell_type": "markdown",
   "id": "4",
   "metadata": {},
   "source": [
    "**Categorize Features**"
   ]
  },
  {
   "cell_type": "code",
   "execution_count": null,
   "id": "5",
   "metadata": {},
   "outputs": [],
   "source": [
    "numeric_features  = ['Customer_Rating', 'Competitor_Price_INR', 'Bean_Cost_INR', 'Month']\n",
    "categorical_feats = ['Bean_Origin', 'Roast_Level', 'Flavor_Profile']\n"
   ]
  },
  {
   "cell_type": "code",
   "execution_count": null,
   "id": "6",
   "metadata": {},
   "outputs": [],
   "source": [
    "# Wrap model to handle scaled y\n",
    "model = TransformedTargetRegressor(\n",
    "    regressor=RandomForestRegressor(...),\n",
    "    transformer=StandardScaler()\n",
    ")"
   ]
  },
  {
   "cell_type": "code",
   "execution_count": null,
   "id": "7",
   "metadata": {},
   "outputs": [],
   "source": [
    "preprocessor = ColumnTransformer([\n",
    "    ('num', StandardScaler(), numeric_features),\n",
    "    ('cat', OneHotEncoder(handle_unknown='ignore'), categorical_feats)\n",
    "])"
   ]
  },
  {
   "cell_type": "markdown",
   "id": "8",
   "metadata": {},
   "source": [
    "## Create Full Pipeline"
   ]
  },
  {
   "cell_type": "code",
   "execution_count": null,
   "id": "9",
   "metadata": {},
   "outputs": [],
   "source": [
    "pipeline = Pipeline([\n",
    "  ('pre', preprocessor),\n",
    "  ('model', TransformedTargetRegressor(\n",
    "      regressor=RandomForestRegressor(random_state=42),\n",
    "      transformer=StandardScaler()\n",
    "  ))\n",
    "])"
   ]
  },
  {
   "cell_type": "code",
   "execution_count": null,
   "id": "10",
   "metadata": {},
   "outputs": [],
   "source": [
    "pipeline.fit(X_train, y_train)"
   ]
  },
  {
   "cell_type": "code",
   "execution_count": null,
   "id": "11",
   "metadata": {},
   "outputs": [],
   "source": [
    "# 5️⃣ (Optional) Evaluate on test set\n",
    "from sklearn.metrics import mean_absolute_error\n",
    "y_pred = pipeline.predict(X_test)\n",
    "print(\"Test MAE:\", mean_absolute_error(y_test, y_pred))\n",
    "\n",
    "# 6️⃣ Save the full pipeline\n",
    "joblib.dump(pipeline, 'coffee_price_predictor_pipeline.pkl')"
   ]
  },
  {
   "cell_type": "code",
   "execution_count": null,
   "id": "12",
   "metadata": {},
   "outputs": [],
   "source": []
  }
 ],
 "metadata": {
  "kernelspec": {
   "display_name": "Python 3",
   "language": "python",
   "name": "python3"
  },
  "language_info": {
   "codemirror_mode": {
    "name": "ipython",
    "version": 2
   },
   "file_extension": ".py",
   "mimetype": "text/x-python",
   "name": "python",
   "nbconvert_exporter": "python",
   "pygments_lexer": "ipython2",
   "version": "2.7.6"
  }
 },
 "nbformat": 4,
 "nbformat_minor": 5
}
